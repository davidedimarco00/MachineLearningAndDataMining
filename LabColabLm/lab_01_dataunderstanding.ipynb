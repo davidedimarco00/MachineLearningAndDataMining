{
  "cells": [
    {
      "cell_type": "markdown",
      "id": "dd73c032",
      "metadata": {
        "id": "dd73c032"
      },
      "source": [
        "# Main Python libraries for data analysis\n",
        "\n",
        "**Relational data** are usually collected in **tabular** format (e.g., csv files)\n",
        "\n",
        "- Each row is an **observation** (instance or tuple)\n",
        "    - An object of the analysis\n",
        "    - E.g., a product for market basket analysis\n",
        "- Each column is an **attribute** (or feature) characterizing each object\n",
        "    - All values within a column have the same type (i.e., all values belong to the same attribute domain)\n",
        "    - E.g., the attributes `ID` (int), `ProductName` (str), or `Price` (float)\n",
        "    \n",
        "We need proper tools (e.g., libraries) to manage such data"
      ]
    },
    {
      "cell_type": "markdown",
      "id": "9915bc29",
      "metadata": {
        "id": "9915bc29"
      },
      "source": [
        "# The library ecosystem\n",
        "\n",
        "![Library ecosystem](https://github.com/w4bo/img-dump/assets/18005592/72869b67-6a16-4a5a-a8a4-8d8e10c2633d)"
      ]
    },
    {
      "cell_type": "markdown",
      "id": "aiR8P8P1ec9h",
      "metadata": {
        "id": "aiR8P8P1ec9h"
      },
      "source": [
        "# Introduction to Pandas"
      ]
    },
    {
      "cell_type": "markdown",
      "id": "85da03a2",
      "metadata": {
        "id": "85da03a2"
      },
      "source": [
        "**Pandas** is the shorthand for 'Python and Data Analysis'\n",
        "\n",
        "- It provides a rich set of features for exploring and manipulating *(multidimensional) tabular data*\n",
        "- [https://pandas.pydata.org/](https://pandas.pydata.org/)\n",
        "\n",
        "pandas (Python) is a solution for the manipulation of relational data\n",
        "\n",
        "- Two main data types: *Series* (e.g., temporal series) and *DataFrame* (e.g., table)\n",
        "- Support to SQL-like operations (join/merge, aggregation, etc.)\n",
        "- Data transformation: imputation of missing values, manipulation of data shape, et.\n"
      ]
    },
    {
      "cell_type": "code",
      "execution_count": null,
      "id": "aacb3166",
      "metadata": {
        "colab": {
          "base_uri": "https://localhost:8080/"
        },
        "execution": {
          "iopub.execute_input": "2024-10-08T14:38:11.042531Z",
          "iopub.status.busy": "2024-10-08T14:38:11.042531Z",
          "iopub.status.idle": "2024-10-08T14:38:11.457784Z",
          "shell.execute_reply": "2024-10-08T14:38:11.457784Z"
        },
        "id": "aacb3166",
        "outputId": "de89e76c-077f-4794-f448-2e10c89e7d4e"
      },
      "outputs": [
        {
          "name": "stdout",
          "output_type": "stream",
          "text": [
            "2.2.3\n"
          ]
        }
      ],
      "source": [
        "import pandas as pd  # By convention, the package pandas is imported as `pd`\n",
        "print(pd.__version__)"
      ]
    },
    {
      "cell_type": "markdown",
      "id": "ff002373",
      "metadata": {
        "id": "ff002373"
      },
      "source": [
        "# ... plus we will use other libraries\n",
        "\n",
        "- NumPy: [https://numpy.org/](https://numpy.org/)\n",
        "- Seaborn: [https://seaborn.pydata.org/](https://seaborn.pydata.org/)\n",
        "- Matplotlib: [https://matplotlib.org/](https://matplotlib.org/)"
      ]
    },
    {
      "cell_type": "code",
      "execution_count": null,
      "id": "3932b785",
      "metadata": {
        "execution": {
          "iopub.execute_input": "2024-10-08T14:38:11.459794Z",
          "iopub.status.busy": "2024-10-08T14:38:11.459794Z",
          "iopub.status.idle": "2024-10-08T14:38:12.505838Z",
          "shell.execute_reply": "2024-10-08T14:38:12.505838Z"
        },
        "id": "3932b785"
      },
      "outputs": [],
      "source": [
        "import numpy as np  # operations on arrays\n",
        "import seaborn as sns  # plots\n",
        "import matplotlib.pyplot as plt  # plots"
      ]
    },
    {
      "cell_type": "markdown",
      "id": "b277327a",
      "metadata": {
        "id": "b277327a"
      },
      "source": [
        "## [DataFrame](https://pandas.pydata.org/docs/reference/api/pandas.DataFrame.html)\n",
        "\n",
        "- Two-dimensional, size-mutable, potentially heterogeneous tabular data.\n",
        "- The primary pandas data structure.\n",
        "- Data structure also contains labeled axes (rows and columns).\n",
        "- Arithmetic operations align on both row and column labels.\n",
        "- Can be thought of as a dict-like container for Series objects."
      ]
    },
    {
      "cell_type": "code",
      "execution_count": null,
      "id": "74c37032",
      "metadata": {
        "colab": {
          "base_uri": "https://localhost:8080/",
          "height": 226
        },
        "execution": {
          "iopub.execute_input": "2024-10-08T14:38:12.507846Z",
          "iopub.status.busy": "2024-10-08T14:38:12.507846Z",
          "iopub.status.idle": "2024-10-08T14:38:12.518309Z",
          "shell.execute_reply": "2024-10-08T14:38:12.518309Z"
        },
        "id": "74c37032",
        "outputId": "45bb3eea-fc45-4c4b-b85b-4e92363a03b5",
        "scrolled": true
      },
      "outputs": [
        {
          "data": {
            "text/html": [
              "<div>\n",
              "<style scoped>\n",
              "    .dataframe tbody tr th:only-of-type {\n",
              "        vertical-align: middle;\n",
              "    }\n",
              "\n",
              "    .dataframe tbody tr th {\n",
              "        vertical-align: top;\n",
              "    }\n",
              "\n",
              "    .dataframe thead th {\n",
              "        text-align: right;\n",
              "    }\n",
              "</style>\n",
              "<table border=\"1\" class=\"dataframe\">\n",
              "  <thead>\n",
              "    <tr style=\"text-align: right;\">\n",
              "      <th></th>\n",
              "      <th>a</th>\n",
              "      <th>b</th>\n",
              "      <th>c</th>\n",
              "      <th>d</th>\n",
              "      <th>e</th>\n",
              "      <th>f</th>\n",
              "      <th>g</th>\n",
              "      <th>h</th>\n",
              "      <th>i</th>\n",
              "      <th>j</th>\n",
              "    </tr>\n",
              "  </thead>\n",
              "  <tbody>\n",
              "    <tr>\n",
              "      <th>0</th>\n",
              "      <td>0</td>\n",
              "      <td>1</td>\n",
              "      <td>2</td>\n",
              "      <td>3</td>\n",
              "      <td>4</td>\n",
              "      <td>5</td>\n",
              "      <td>6</td>\n",
              "      <td>7</td>\n",
              "      <td>8</td>\n",
              "      <td>9</td>\n",
              "    </tr>\n",
              "    <tr>\n",
              "      <th>1</th>\n",
              "      <td>1</td>\n",
              "      <td>2</td>\n",
              "      <td>3</td>\n",
              "      <td>4</td>\n",
              "      <td>5</td>\n",
              "      <td>6</td>\n",
              "      <td>7</td>\n",
              "      <td>8</td>\n",
              "      <td>9</td>\n",
              "      <td>10</td>\n",
              "    </tr>\n",
              "    <tr>\n",
              "      <th>2</th>\n",
              "      <td>2</td>\n",
              "      <td>3</td>\n",
              "      <td>4</td>\n",
              "      <td>5</td>\n",
              "      <td>6</td>\n",
              "      <td>7</td>\n",
              "      <td>8</td>\n",
              "      <td>9</td>\n",
              "      <td>10</td>\n",
              "      <td>11</td>\n",
              "    </tr>\n",
              "    <tr>\n",
              "      <th>3</th>\n",
              "      <td>3</td>\n",
              "      <td>4</td>\n",
              "      <td>5</td>\n",
              "      <td>6</td>\n",
              "      <td>7</td>\n",
              "      <td>8</td>\n",
              "      <td>9</td>\n",
              "      <td>10</td>\n",
              "      <td>11</td>\n",
              "      <td>12</td>\n",
              "    </tr>\n",
              "    <tr>\n",
              "      <th>4</th>\n",
              "      <td>4</td>\n",
              "      <td>5</td>\n",
              "      <td>6</td>\n",
              "      <td>7</td>\n",
              "      <td>8</td>\n",
              "      <td>9</td>\n",
              "      <td>10</td>\n",
              "      <td>11</td>\n",
              "      <td>12</td>\n",
              "      <td>13</td>\n",
              "    </tr>\n",
              "  </tbody>\n",
              "</table>\n",
              "</div>"
            ],
            "text/plain": [
              "   a  b  c  d  e  f   g   h   i   j\n",
              "0  0  1  2  3  4  5   6   7   8   9\n",
              "1  1  2  3  4  5  6   7   8   9  10\n",
              "2  2  3  4  5  6  7   8   9  10  11\n",
              "3  3  4  5  6  7  8   9  10  11  12\n",
              "4  4  5  6  7  8  9  10  11  12  13"
            ]
          },
          "execution_count": 3,
          "metadata": {},
          "output_type": "execute_result"
        }
      ],
      "source": [
        "# create a numeric dataframe/table\n",
        "df = pd.DataFrame([[i + j for i in range(10)] for j in range(5)],\n",
        "                  index=[i for i in range(5)],\n",
        "                  columns=list('abcdefghij'))\n",
        "df"
      ]
    },
    {
      "cell_type": "markdown",
      "id": "4a3c5636-f1bd-4852-95ec-5d9858d27980",
      "metadata": {
        "id": "4a3c5636-f1bd-4852-95ec-5d9858d27980"
      },
      "source": [
        "## Some operations"
      ]
    },
    {
      "cell_type": "code",
      "execution_count": null,
      "id": "e5cf8058",
      "metadata": {
        "colab": {
          "base_uri": "https://localhost:8080/",
          "height": 206
        },
        "execution": {
          "iopub.execute_input": "2024-10-08T14:38:12.521318Z",
          "iopub.status.busy": "2024-10-08T14:38:12.520317Z",
          "iopub.status.idle": "2024-10-08T14:38:12.527838Z",
          "shell.execute_reply": "2024-10-08T14:38:12.527838Z"
        },
        "id": "e5cf8058",
        "outputId": "f7338355-f16f-4b8c-a9e8-ad6eb57607be"
      },
      "outputs": [
        {
          "data": {
            "text/html": [
              "<div>\n",
              "<style scoped>\n",
              "    .dataframe tbody tr th:only-of-type {\n",
              "        vertical-align: middle;\n",
              "    }\n",
              "\n",
              "    .dataframe tbody tr th {\n",
              "        vertical-align: top;\n",
              "    }\n",
              "\n",
              "    .dataframe thead th {\n",
              "        text-align: right;\n",
              "    }\n",
              "</style>\n",
              "<table border=\"1\" class=\"dataframe\">\n",
              "  <thead>\n",
              "    <tr style=\"text-align: right;\">\n",
              "      <th></th>\n",
              "      <th>a</th>\n",
              "      <th>b</th>\n",
              "      <th>c</th>\n",
              "      <th>d</th>\n",
              "      <th>e</th>\n",
              "      <th>f</th>\n",
              "      <th>g</th>\n",
              "      <th>h</th>\n",
              "      <th>i</th>\n",
              "      <th>j</th>\n",
              "    </tr>\n",
              "  </thead>\n",
              "  <tbody>\n",
              "    <tr>\n",
              "      <th>4</th>\n",
              "      <td>4</td>\n",
              "      <td>5</td>\n",
              "      <td>6</td>\n",
              "      <td>7</td>\n",
              "      <td>8</td>\n",
              "      <td>9</td>\n",
              "      <td>10</td>\n",
              "      <td>11</td>\n",
              "      <td>12</td>\n",
              "      <td>13</td>\n",
              "    </tr>\n",
              "    <tr>\n",
              "      <th>3</th>\n",
              "      <td>3</td>\n",
              "      <td>4</td>\n",
              "      <td>5</td>\n",
              "      <td>6</td>\n",
              "      <td>7</td>\n",
              "      <td>8</td>\n",
              "      <td>9</td>\n",
              "      <td>10</td>\n",
              "      <td>11</td>\n",
              "      <td>12</td>\n",
              "    </tr>\n",
              "    <tr>\n",
              "      <th>2</th>\n",
              "      <td>2</td>\n",
              "      <td>3</td>\n",
              "      <td>4</td>\n",
              "      <td>5</td>\n",
              "      <td>6</td>\n",
              "      <td>7</td>\n",
              "      <td>8</td>\n",
              "      <td>9</td>\n",
              "      <td>10</td>\n",
              "      <td>11</td>\n",
              "    </tr>\n",
              "    <tr>\n",
              "      <th>1</th>\n",
              "      <td>1</td>\n",
              "      <td>2</td>\n",
              "      <td>3</td>\n",
              "      <td>4</td>\n",
              "      <td>5</td>\n",
              "      <td>6</td>\n",
              "      <td>7</td>\n",
              "      <td>8</td>\n",
              "      <td>9</td>\n",
              "      <td>10</td>\n",
              "    </tr>\n",
              "    <tr>\n",
              "      <th>0</th>\n",
              "      <td>0</td>\n",
              "      <td>1</td>\n",
              "      <td>2</td>\n",
              "      <td>3</td>\n",
              "      <td>4</td>\n",
              "      <td>5</td>\n",
              "      <td>6</td>\n",
              "      <td>7</td>\n",
              "      <td>8</td>\n",
              "      <td>9</td>\n",
              "    </tr>\n",
              "  </tbody>\n",
              "</table>\n",
              "</div>"
            ],
            "text/plain": [
              "   a  b  c  d  e  f   g   h   i   j\n",
              "4  4  5  6  7  8  9  10  11  12  13\n",
              "3  3  4  5  6  7  8   9  10  11  12\n",
              "2  2  3  4  5  6  7   8   9  10  11\n",
              "1  1  2  3  4  5  6   7   8   9  10\n",
              "0  0  1  2  3  4  5   6   7   8   9"
            ]
          },
          "execution_count": 4,
          "metadata": {},
          "output_type": "execute_result"
        }
      ],
      "source": [
        "# Get the headers (i.e., the column names)\n",
        "df.columns\n",
        "# Get just the first two rows\n",
        "df.head(2)\n",
        "# Get just the last two rows\n",
        "df.tail(2)\n",
        "# Sort the dataframe by columns\n",
        "df.sort_values(by=['a', 'b'], ascending=[False, True])"
      ]
    },
    {
      "cell_type": "markdown",
      "id": "0952b32b",
      "metadata": {
        "id": "0952b32b"
      },
      "source": [
        "## [Series](https://pandas.pydata.org/docs/reference/api/pandas.Series.html)\n",
        "\n",
        "A sequence of values with the same type\n",
        "\n",
        "- Each value is associate with a label\n",
        "- Supported values and label types are the ones from NumPy (float64, int64, etc.)\n",
        "- In other words, a series is a mono-dimensional vector of elements\n",
        "\n",
        "The index of a series is the sequence of labels\n",
        "\n",
        "- Label are usually numeric or string identifiers (e.g., the primary key of a database table)\n",
        "- Labels need not be unique but must be a hashable type (both integer- and label-based indexing)"
      ]
    },
    {
      "cell_type": "code",
      "execution_count": null,
      "id": "205a800c",
      "metadata": {
        "colab": {
          "base_uri": "https://localhost:8080/",
          "height": 216
        },
        "execution": {
          "iopub.execute_input": "2024-10-08T14:38:12.529833Z",
          "iopub.status.busy": "2024-10-08T14:38:12.528836Z",
          "iopub.status.idle": "2024-10-08T14:38:12.533338Z",
          "shell.execute_reply": "2024-10-08T14:38:12.533338Z"
        },
        "id": "205a800c",
        "outputId": "ee7c35e1-e9ca-40ed-b5a3-e58fb5e9e1a4"
      },
      "outputs": [
        {
          "data": {
            "text/plain": [
              "a    1\n",
              "b    2\n",
              "c    3\n",
              "dtype: int64"
            ]
          },
          "execution_count": 5,
          "metadata": {},
          "output_type": "execute_result"
        }
      ],
      "source": [
        "pd.Series([1, 2, 3], index=[\"a\", \"b\", \"c\"])"
      ]
    },
    {
      "cell_type": "code",
      "execution_count": null,
      "id": "a4ed958f",
      "metadata": {
        "colab": {
          "base_uri": "https://localhost:8080/",
          "height": 278
        },
        "execution": {
          "iopub.execute_input": "2024-10-08T14:38:12.535543Z",
          "iopub.status.busy": "2024-10-08T14:38:12.534996Z",
          "iopub.status.idle": "2024-10-08T14:38:12.538706Z",
          "shell.execute_reply": "2024-10-08T14:38:12.538706Z"
        },
        "id": "a4ed958f",
        "outputId": "55e128f0-c560-41ee-f31a-0b2c1dcd6e07"
      },
      "outputs": [
        {
          "data": {
            "text/plain": [
              "0    0\n",
              "1    1\n",
              "2    2\n",
              "3    3\n",
              "4    4\n",
              "Name: a, dtype: int64"
            ]
          },
          "execution_count": 6,
          "metadata": {},
          "output_type": "execute_result"
        }
      ],
      "source": [
        "# Select a column (i.e., a series) as in a SQL projection\n",
        "df['a']"
      ]
    },
    {
      "cell_type": "markdown",
      "id": "4fbe3136",
      "metadata": {
        "id": "4fbe3136"
      },
      "source": [
        "# Doing some element-wise operations\n",
        "\n",
        "Operations between Series (e.g., +, -, /) align values based on their associated index values"
      ]
    },
    {
      "cell_type": "code",
      "execution_count": null,
      "id": "8af0fee7-2e12-4b68-8634-58a26ae19839",
      "metadata": {
        "execution": {
          "iopub.execute_input": "2024-10-08T14:38:12.540248Z",
          "iopub.status.busy": "2024-10-08T14:38:12.540248Z",
          "iopub.status.idle": "2024-10-08T14:38:12.547263Z",
          "shell.execute_reply": "2024-10-08T14:38:12.546737Z"
        },
        "id": "8af0fee7-2e12-4b68-8634-58a26ae19839",
        "outputId": "44762d8c-a2cd-46d7-ede2-161edaa90c77"
      },
      "outputs": [
        {
          "data": {
            "text/html": [
              "<div>\n",
              "<style scoped>\n",
              "    .dataframe tbody tr th:only-of-type {\n",
              "        vertical-align: middle;\n",
              "    }\n",
              "\n",
              "    .dataframe tbody tr th {\n",
              "        vertical-align: top;\n",
              "    }\n",
              "\n",
              "    .dataframe thead th {\n",
              "        text-align: right;\n",
              "    }\n",
              "</style>\n",
              "<table border=\"1\" class=\"dataframe\">\n",
              "  <thead>\n",
              "    <tr style=\"text-align: right;\">\n",
              "      <th></th>\n",
              "      <th>a</th>\n",
              "      <th>b</th>\n",
              "      <th>c</th>\n",
              "      <th>d</th>\n",
              "      <th>e</th>\n",
              "      <th>f</th>\n",
              "      <th>g</th>\n",
              "      <th>h</th>\n",
              "      <th>i</th>\n",
              "      <th>j</th>\n",
              "      <th>k</th>\n",
              "    </tr>\n",
              "  </thead>\n",
              "  <tbody>\n",
              "    <tr>\n",
              "      <th>0</th>\n",
              "      <td>0</td>\n",
              "      <td>1</td>\n",
              "      <td>2</td>\n",
              "      <td>3</td>\n",
              "      <td>4</td>\n",
              "      <td>5</td>\n",
              "      <td>6</td>\n",
              "      <td>7</td>\n",
              "      <td>8</td>\n",
              "      <td>9</td>\n",
              "      <td>0</td>\n",
              "    </tr>\n",
              "    <tr>\n",
              "      <th>1</th>\n",
              "      <td>1</td>\n",
              "      <td>2</td>\n",
              "      <td>3</td>\n",
              "      <td>4</td>\n",
              "      <td>5</td>\n",
              "      <td>6</td>\n",
              "      <td>7</td>\n",
              "      <td>8</td>\n",
              "      <td>9</td>\n",
              "      <td>10</td>\n",
              "      <td>2</td>\n",
              "    </tr>\n",
              "    <tr>\n",
              "      <th>2</th>\n",
              "      <td>2</td>\n",
              "      <td>3</td>\n",
              "      <td>4</td>\n",
              "      <td>5</td>\n",
              "      <td>6</td>\n",
              "      <td>7</td>\n",
              "      <td>8</td>\n",
              "      <td>9</td>\n",
              "      <td>10</td>\n",
              "      <td>11</td>\n",
              "      <td>6</td>\n",
              "    </tr>\n",
              "    <tr>\n",
              "      <th>3</th>\n",
              "      <td>3</td>\n",
              "      <td>4</td>\n",
              "      <td>5</td>\n",
              "      <td>6</td>\n",
              "      <td>7</td>\n",
              "      <td>8</td>\n",
              "      <td>9</td>\n",
              "      <td>10</td>\n",
              "      <td>11</td>\n",
              "      <td>12</td>\n",
              "      <td>12</td>\n",
              "    </tr>\n",
              "    <tr>\n",
              "      <th>4</th>\n",
              "      <td>4</td>\n",
              "      <td>5</td>\n",
              "      <td>6</td>\n",
              "      <td>7</td>\n",
              "      <td>8</td>\n",
              "      <td>9</td>\n",
              "      <td>10</td>\n",
              "      <td>11</td>\n",
              "      <td>12</td>\n",
              "      <td>13</td>\n",
              "      <td>20</td>\n",
              "    </tr>\n",
              "  </tbody>\n",
              "</table>\n",
              "</div>"
            ],
            "text/plain": [
              "   a  b  c  d  e  f   g   h   i   j   k\n",
              "0  0  1  2  3  4  5   6   7   8   9   0\n",
              "1  1  2  3  4  5  6   7   8   9  10   2\n",
              "2  2  3  4  5  6  7   8   9  10  11   6\n",
              "3  3  4  5  6  7  8   9  10  11  12  12\n",
              "4  4  5  6  7  8  9  10  11  12  13  20"
            ]
          },
          "execution_count": 7,
          "metadata": {},
          "output_type": "execute_result"
        }
      ],
      "source": [
        "# Add another column to the dataframe\n",
        "df['k'] = df['a'] * df['b']\n",
        "df"
      ]
    },
    {
      "cell_type": "code",
      "execution_count": null,
      "id": "50a5bde6",
      "metadata": {
        "colab": {
          "base_uri": "https://localhost:8080/",
          "height": 216
        },
        "execution": {
          "iopub.execute_input": "2024-10-08T14:38:12.548837Z",
          "iopub.status.busy": "2024-10-08T14:38:12.548319Z",
          "iopub.status.idle": "2024-10-08T14:38:12.553027Z",
          "shell.execute_reply": "2024-10-08T14:38:12.553027Z"
        },
        "id": "50a5bde6",
        "outputId": "c58ad916-7ffe-4fe8-ecb7-f7ec0f3c30aa"
      },
      "outputs": [
        {
          "data": {
            "text/plain": [
              "a    3\n",
              "b    3\n",
              "c    6\n",
              "dtype: int64"
            ]
          },
          "execution_count": 8,
          "metadata": {},
          "output_type": "execute_result"
        }
      ],
      "source": [
        "ser_a = pd.Series([1, 2, 3], index=[\"a\", \"b\", \"c\"])\n",
        "ser_b = pd.Series([1, 2, 3], index=[\"b\", \"a\", \"c\"])\n",
        "ser_a + ser_b  # +, -, /, *"
      ]
    },
    {
      "cell_type": "markdown",
      "id": "766b0692",
      "metadata": {
        "id": "766b0692"
      },
      "source": [
        "# Filtering the data"
      ]
    },
    {
      "cell_type": "code",
      "execution_count": null,
      "id": "3e8bbab0",
      "metadata": {
        "execution": {
          "iopub.execute_input": "2024-10-08T14:38:12.555124Z",
          "iopub.status.busy": "2024-10-08T14:38:12.555124Z",
          "iopub.status.idle": "2024-10-08T14:38:12.561506Z",
          "shell.execute_reply": "2024-10-08T14:38:12.560959Z"
        },
        "id": "3e8bbab0",
        "outputId": "313cd4c7-0513-4962-bb0a-7f0a1955cc0f"
      },
      "outputs": [
        {
          "data": {
            "text/html": [
              "<div>\n",
              "<style scoped>\n",
              "    .dataframe tbody tr th:only-of-type {\n",
              "        vertical-align: middle;\n",
              "    }\n",
              "\n",
              "    .dataframe tbody tr th {\n",
              "        vertical-align: top;\n",
              "    }\n",
              "\n",
              "    .dataframe thead th {\n",
              "        text-align: right;\n",
              "    }\n",
              "</style>\n",
              "<table border=\"1\" class=\"dataframe\">\n",
              "  <thead>\n",
              "    <tr style=\"text-align: right;\">\n",
              "      <th></th>\n",
              "      <th>a</th>\n",
              "      <th>b</th>\n",
              "      <th>c</th>\n",
              "      <th>d</th>\n",
              "      <th>e</th>\n",
              "      <th>f</th>\n",
              "      <th>g</th>\n",
              "      <th>h</th>\n",
              "      <th>i</th>\n",
              "      <th>j</th>\n",
              "      <th>k</th>\n",
              "    </tr>\n",
              "  </thead>\n",
              "  <tbody>\n",
              "    <tr>\n",
              "      <th>3</th>\n",
              "      <td>3</td>\n",
              "      <td>4</td>\n",
              "      <td>5</td>\n",
              "      <td>6</td>\n",
              "      <td>7</td>\n",
              "      <td>8</td>\n",
              "      <td>9</td>\n",
              "      <td>10</td>\n",
              "      <td>11</td>\n",
              "      <td>12</td>\n",
              "      <td>12</td>\n",
              "    </tr>\n",
              "    <tr>\n",
              "      <th>4</th>\n",
              "      <td>4</td>\n",
              "      <td>5</td>\n",
              "      <td>6</td>\n",
              "      <td>7</td>\n",
              "      <td>8</td>\n",
              "      <td>9</td>\n",
              "      <td>10</td>\n",
              "      <td>11</td>\n",
              "      <td>12</td>\n",
              "      <td>13</td>\n",
              "      <td>20</td>\n",
              "    </tr>\n",
              "  </tbody>\n",
              "</table>\n",
              "</div>"
            ],
            "text/plain": [
              "   a  b  c  d  e  f   g   h   i   j   k\n",
              "3  3  4  5  6  7  8   9  10  11  12  12\n",
              "4  4  5  6  7  8  9  10  11  12  13  20"
            ]
          },
          "execution_count": 9,
          "metadata": {},
          "output_type": "execute_result"
        }
      ],
      "source": [
        "df[df['a'] > 2]  # filter the entire dataframe"
      ]
    },
    {
      "cell_type": "code",
      "execution_count": null,
      "id": "85083d76",
      "metadata": {
        "execution": {
          "iopub.execute_input": "2024-10-08T14:38:12.563612Z",
          "iopub.status.busy": "2024-10-08T14:38:12.563085Z",
          "iopub.status.idle": "2024-10-08T14:38:12.567274Z",
          "shell.execute_reply": "2024-10-08T14:38:12.567240Z"
        },
        "id": "85083d76",
        "outputId": "debc009f-ea82-42ea-c7cd-f7c244306bad"
      },
      "outputs": [
        {
          "data": {
            "text/plain": [
              "3    3\n",
              "4    4\n",
              "Name: a, dtype: int64"
            ]
          },
          "execution_count": 10,
          "metadata": {},
          "output_type": "execute_result"
        }
      ],
      "source": [
        "df[df['a'] > 2]['a']  # filter and select the column 'a'"
      ]
    },
    {
      "cell_type": "markdown",
      "id": "2dfc9af7",
      "metadata": {
        "id": "2dfc9af7"
      },
      "source": [
        "# Doing some aggregation"
      ]
    },
    {
      "cell_type": "code",
      "execution_count": null,
      "id": "b2c64c8e",
      "metadata": {
        "colab": {
          "base_uri": "https://localhost:8080/"
        },
        "execution": {
          "iopub.execute_input": "2024-10-08T14:38:12.568860Z",
          "iopub.status.busy": "2024-10-08T14:38:12.568860Z",
          "iopub.status.idle": "2024-10-08T14:38:12.572023Z",
          "shell.execute_reply": "2024-10-08T14:38:12.572023Z"
        },
        "id": "b2c64c8e",
        "outputId": "f34e8487-ac46-416f-a5e4-bd79c94e101a"
      },
      "outputs": [
        {
          "data": {
            "text/plain": [
              "np.int64(4)"
            ]
          },
          "execution_count": 11,
          "metadata": {},
          "output_type": "execute_result"
        }
      ],
      "source": [
        "ser_c = df[\"a\"]\n",
        "ser_c.count()  # count the values => 5\n",
        "ser_c.sum()    # sum the values => 10\n",
        "ser_c.mean()   # average the values => 2.0\n",
        "ser_c.max()    # maximum value => 4\n",
        "ser_c.min()    # minimum value => 0\n",
        "ser_c.idxmax() # index of the maximum value => 4"
      ]
    },
    {
      "cell_type": "code",
      "execution_count": null,
      "id": "4f74f58d-d995-49d8-ae68-6e3ce7fe6d0e",
      "metadata": {
        "execution": {
          "iopub.execute_input": "2024-10-08T14:38:12.573028Z",
          "iopub.status.busy": "2024-10-08T14:38:12.573028Z",
          "iopub.status.idle": "2024-10-08T14:38:12.589770Z",
          "shell.execute_reply": "2024-10-08T14:38:12.589263Z"
        },
        "id": "4f74f58d-d995-49d8-ae68-6e3ce7fe6d0e",
        "outputId": "e103511b-c049-44e4-e494-e0256500b82d"
      },
      "outputs": [
        {
          "data": {
            "text/html": [
              "<div>\n",
              "<style scoped>\n",
              "    .dataframe tbody tr th:only-of-type {\n",
              "        vertical-align: middle;\n",
              "    }\n",
              "\n",
              "    .dataframe tbody tr th {\n",
              "        vertical-align: top;\n",
              "    }\n",
              "\n",
              "    .dataframe thead tr th {\n",
              "        text-align: left;\n",
              "    }\n",
              "\n",
              "    .dataframe thead tr:last-of-type th {\n",
              "        text-align: right;\n",
              "    }\n",
              "</style>\n",
              "<table border=\"1\" class=\"dataframe\">\n",
              "  <thead>\n",
              "    <tr>\n",
              "      <th></th>\n",
              "      <th colspan=\"2\" halign=\"left\">b</th>\n",
              "      <th colspan=\"2\" halign=\"left\">c</th>\n",
              "      <th colspan=\"2\" halign=\"left\">d</th>\n",
              "      <th colspan=\"2\" halign=\"left\">e</th>\n",
              "      <th colspan=\"2\" halign=\"left\">f</th>\n",
              "      <th colspan=\"2\" halign=\"left\">g</th>\n",
              "      <th colspan=\"2\" halign=\"left\">h</th>\n",
              "      <th colspan=\"2\" halign=\"left\">i</th>\n",
              "      <th colspan=\"2\" halign=\"left\">j</th>\n",
              "      <th colspan=\"2\" halign=\"left\">k</th>\n",
              "    </tr>\n",
              "    <tr>\n",
              "      <th></th>\n",
              "      <th>mean</th>\n",
              "      <th>count</th>\n",
              "      <th>mean</th>\n",
              "      <th>count</th>\n",
              "      <th>mean</th>\n",
              "      <th>count</th>\n",
              "      <th>mean</th>\n",
              "      <th>count</th>\n",
              "      <th>mean</th>\n",
              "      <th>count</th>\n",
              "      <th>mean</th>\n",
              "      <th>count</th>\n",
              "      <th>mean</th>\n",
              "      <th>count</th>\n",
              "      <th>mean</th>\n",
              "      <th>count</th>\n",
              "      <th>mean</th>\n",
              "      <th>count</th>\n",
              "      <th>mean</th>\n",
              "      <th>count</th>\n",
              "    </tr>\n",
              "    <tr>\n",
              "      <th>a</th>\n",
              "      <th></th>\n",
              "      <th></th>\n",
              "      <th></th>\n",
              "      <th></th>\n",
              "      <th></th>\n",
              "      <th></th>\n",
              "      <th></th>\n",
              "      <th></th>\n",
              "      <th></th>\n",
              "      <th></th>\n",
              "      <th></th>\n",
              "      <th></th>\n",
              "      <th></th>\n",
              "      <th></th>\n",
              "      <th></th>\n",
              "      <th></th>\n",
              "      <th></th>\n",
              "      <th></th>\n",
              "      <th></th>\n",
              "      <th></th>\n",
              "    </tr>\n",
              "  </thead>\n",
              "  <tbody>\n",
              "    <tr>\n",
              "      <th>0</th>\n",
              "      <td>1.0</td>\n",
              "      <td>1</td>\n",
              "      <td>2.0</td>\n",
              "      <td>1</td>\n",
              "      <td>3.0</td>\n",
              "      <td>1</td>\n",
              "      <td>4.0</td>\n",
              "      <td>1</td>\n",
              "      <td>5.0</td>\n",
              "      <td>1</td>\n",
              "      <td>6.0</td>\n",
              "      <td>1</td>\n",
              "      <td>7.0</td>\n",
              "      <td>1</td>\n",
              "      <td>8.0</td>\n",
              "      <td>1</td>\n",
              "      <td>9.0</td>\n",
              "      <td>1</td>\n",
              "      <td>0.0</td>\n",
              "      <td>1</td>\n",
              "    </tr>\n",
              "    <tr>\n",
              "      <th>1</th>\n",
              "      <td>2.0</td>\n",
              "      <td>1</td>\n",
              "      <td>3.0</td>\n",
              "      <td>1</td>\n",
              "      <td>4.0</td>\n",
              "      <td>1</td>\n",
              "      <td>5.0</td>\n",
              "      <td>1</td>\n",
              "      <td>6.0</td>\n",
              "      <td>1</td>\n",
              "      <td>7.0</td>\n",
              "      <td>1</td>\n",
              "      <td>8.0</td>\n",
              "      <td>1</td>\n",
              "      <td>9.0</td>\n",
              "      <td>1</td>\n",
              "      <td>10.0</td>\n",
              "      <td>1</td>\n",
              "      <td>2.0</td>\n",
              "      <td>1</td>\n",
              "    </tr>\n",
              "    <tr>\n",
              "      <th>2</th>\n",
              "      <td>3.0</td>\n",
              "      <td>1</td>\n",
              "      <td>4.0</td>\n",
              "      <td>1</td>\n",
              "      <td>5.0</td>\n",
              "      <td>1</td>\n",
              "      <td>6.0</td>\n",
              "      <td>1</td>\n",
              "      <td>7.0</td>\n",
              "      <td>1</td>\n",
              "      <td>8.0</td>\n",
              "      <td>1</td>\n",
              "      <td>9.0</td>\n",
              "      <td>1</td>\n",
              "      <td>10.0</td>\n",
              "      <td>1</td>\n",
              "      <td>11.0</td>\n",
              "      <td>1</td>\n",
              "      <td>6.0</td>\n",
              "      <td>1</td>\n",
              "    </tr>\n",
              "    <tr>\n",
              "      <th>3</th>\n",
              "      <td>4.0</td>\n",
              "      <td>1</td>\n",
              "      <td>5.0</td>\n",
              "      <td>1</td>\n",
              "      <td>6.0</td>\n",
              "      <td>1</td>\n",
              "      <td>7.0</td>\n",
              "      <td>1</td>\n",
              "      <td>8.0</td>\n",
              "      <td>1</td>\n",
              "      <td>9.0</td>\n",
              "      <td>1</td>\n",
              "      <td>10.0</td>\n",
              "      <td>1</td>\n",
              "      <td>11.0</td>\n",
              "      <td>1</td>\n",
              "      <td>12.0</td>\n",
              "      <td>1</td>\n",
              "      <td>12.0</td>\n",
              "      <td>1</td>\n",
              "    </tr>\n",
              "    <tr>\n",
              "      <th>4</th>\n",
              "      <td>5.0</td>\n",
              "      <td>1</td>\n",
              "      <td>6.0</td>\n",
              "      <td>1</td>\n",
              "      <td>7.0</td>\n",
              "      <td>1</td>\n",
              "      <td>8.0</td>\n",
              "      <td>1</td>\n",
              "      <td>9.0</td>\n",
              "      <td>1</td>\n",
              "      <td>10.0</td>\n",
              "      <td>1</td>\n",
              "      <td>11.0</td>\n",
              "      <td>1</td>\n",
              "      <td>12.0</td>\n",
              "      <td>1</td>\n",
              "      <td>13.0</td>\n",
              "      <td>1</td>\n",
              "      <td>20.0</td>\n",
              "      <td>1</td>\n",
              "    </tr>\n",
              "  </tbody>\n",
              "</table>\n",
              "</div>"
            ],
            "text/plain": [
              "     b          c          d          e          f           g           h  \\\n",
              "  mean count mean count mean count mean count mean count  mean count  mean   \n",
              "a                                                                            \n",
              "0  1.0     1  2.0     1  3.0     1  4.0     1  5.0     1   6.0     1   7.0   \n",
              "1  2.0     1  3.0     1  4.0     1  5.0     1  6.0     1   7.0     1   8.0   \n",
              "2  3.0     1  4.0     1  5.0     1  6.0     1  7.0     1   8.0     1   9.0   \n",
              "3  4.0     1  5.0     1  6.0     1  7.0     1  8.0     1   9.0     1  10.0   \n",
              "4  5.0     1  6.0     1  7.0     1  8.0     1  9.0     1  10.0     1  11.0   \n",
              "\n",
              "            i           j           k        \n",
              "  count  mean count  mean count  mean count  \n",
              "a                                            \n",
              "0     1   8.0     1   9.0     1   0.0     1  \n",
              "1     1   9.0     1  10.0     1   2.0     1  \n",
              "2     1  10.0     1  11.0     1   6.0     1  \n",
              "3     1  11.0     1  12.0     1  12.0     1  \n",
              "4     1  12.0     1  13.0     1  20.0     1  "
            ]
          },
          "execution_count": 12,
          "metadata": {},
          "output_type": "execute_result"
        }
      ],
      "source": [
        "df.groupby(['a']).agg(['mean', 'count'])"
      ]
    },
    {
      "cell_type": "markdown",
      "id": "5299b4b8",
      "metadata": {
        "id": "5299b4b8"
      },
      "source": [
        "# Type inference\n",
        "\n",
        "Pandas automatically infers data types, or they can be specified during creation\n",
        "\n",
        "- `np.floatN` represents floating numbers (e.g., -3.14)\n",
        "- `np.intN`/`np.uintN` represent integers with/without sign (e.g., -42 and 42)\n",
        "    - `N` is the number of needed bits: 8, 16, 32 o 64\n",
        "- `bool`: Boolean values\n",
        "- `datetime64`, timedelta64: timestamp and time intervals\n",
        "- `object`: mainly used for strings"
      ]
    },
    {
      "cell_type": "code",
      "execution_count": null,
      "id": "7d53489b",
      "metadata": {
        "colab": {
          "base_uri": "https://localhost:8080/",
          "height": 206
        },
        "execution": {
          "iopub.execute_input": "2024-10-08T14:38:12.591778Z",
          "iopub.status.busy": "2024-10-08T14:38:12.590779Z",
          "iopub.status.idle": "2024-10-08T14:38:12.595784Z",
          "shell.execute_reply": "2024-10-08T14:38:12.595784Z"
        },
        "id": "7d53489b",
        "outputId": "97c41b58-041b-4538-c9de-d8315c66f7cd"
      },
      "outputs": [
        {
          "data": {
            "text/plain": [
              "ID           object\n",
              "PriceBin     object\n",
              "Date         object\n",
              "Quantity    float64\n",
              "Review        int64\n",
              "dtype: object"
            ]
          },
          "execution_count": 13,
          "metadata": {},
          "output_type": "execute_result"
        }
      ],
      "source": [
        "df = pd.DataFrame([\n",
        "    ['Cola',   'low',    '05/07/2021', 10, 2],\n",
        "    ['Bread',  'medium', '05/07/2021', 25, 1],\n",
        "    ['Beer',   'high',   '06/07/2021', 100, 3],\n",
        "    ['Diaper', 'high',   '06/07/2021', np.nan, 4],\n",
        "    ['Pizza',  'medium', '06/07/2021', 25, 5]], columns=['ID', 'PriceBin', 'Date', 'Quantity', 'Review'])\n",
        "df.dtypes"
      ]
    },
    {
      "cell_type": "markdown",
      "id": "31669dde",
      "metadata": {
        "id": "31669dde"
      },
      "source": [
        "\"It is imperative to know the attribute properties to carry out meaningful operations and research with them\"\n",
        "\n",
        "- Why is data type important?\n",
        "- What are the implications of a data type?"
      ]
    },
    {
      "cell_type": "markdown",
      "id": "b9cc984c",
      "metadata": {
        "id": "b9cc984c"
      },
      "source": [
        "# Attribute types\n",
        "\n",
        "The attribute type determines which operator can be applied to the attribute\n",
        "\n",
        "- Equality, sort, sum, ratio, etc.\n",
        "- It makes sense to compute the average `Quantity` but not the average `ID`"
      ]
    },
    {
      "cell_type": "markdown",
      "id": "fb2ef244",
      "metadata": {
        "id": "fb2ef244"
      },
      "source": [
        "Different attribute types\n",
        "\n",
        "- (Categorical) **Nominal**: can distinguish the values (i.e., check equality)\n",
        "- (Categorical) **Ordinal**: can distinguish and sort the values\n",
        "- (Numeric) **Interval**: can distinguish and sort the values, and compute their difference\n",
        "- (Numeric) **Ratio**: can distinguish and sort the values, and compute their difference and ratio"
      ]
    },
    {
      "cell_type": "markdown",
      "id": "16e96a6f-1508-44d5-ae84-74297b6df682",
      "metadata": {
        "id": "16e96a6f-1508-44d5-ae84-74297b6df682"
      },
      "source": [
        "# Data profiling"
      ]
    },
    {
      "cell_type": "code",
      "execution_count": null,
      "id": "4d3c26ed",
      "metadata": {
        "colab": {
          "base_uri": "https://localhost:8080/"
        },
        "execution": {
          "iopub.execute_input": "2024-10-08T14:38:12.597791Z",
          "iopub.status.busy": "2024-10-08T14:38:12.597791Z",
          "iopub.status.idle": "2024-10-08T14:38:12.602441Z",
          "shell.execute_reply": "2024-10-08T14:38:12.602441Z"
        },
        "id": "4d3c26ed",
        "outputId": "4ab0845e-47d5-40e1-f72e-bb8ca33e95f7"
      },
      "outputs": [
        {
          "name": "stdout",
          "output_type": "stream",
          "text": [
            "<class 'pandas.core.frame.DataFrame'>\n",
            "RangeIndex: 5 entries, 0 to 4\n",
            "Data columns (total 5 columns):\n",
            " #   Column    Non-Null Count  Dtype  \n",
            "---  ------    --------------  -----  \n",
            " 0   ID        5 non-null      object \n",
            " 1   PriceBin  5 non-null      object \n",
            " 2   Date      5 non-null      object \n",
            " 3   Quantity  4 non-null      float64\n",
            " 4   Review    5 non-null      int64  \n",
            "dtypes: float64(1), int64(1), object(3)\n",
            "memory usage: 332.0+ bytes\n"
          ]
        }
      ],
      "source": [
        "df.info()"
      ]
    },
    {
      "cell_type": "markdown",
      "id": "8101c348-aa70-4156-bf66-33d11ef3f930",
      "metadata": {
        "id": "8101c348-aa70-4156-bf66-33d11ef3f930"
      },
      "source": [
        "# Data profiling"
      ]
    },
    {
      "cell_type": "code",
      "execution_count": null,
      "id": "4061127e",
      "metadata": {
        "colab": {
          "base_uri": "https://localhost:8080/",
          "height": 394
        },
        "execution": {
          "iopub.execute_input": "2024-10-08T14:38:12.603449Z",
          "iopub.status.busy": "2024-10-08T14:38:12.603449Z",
          "iopub.status.idle": "2024-10-08T14:38:12.613265Z",
          "shell.execute_reply": "2024-10-08T14:38:12.613265Z"
        },
        "id": "4061127e",
        "outputId": "b0361495-a3ad-4caf-a648-ff76fcc16a61"
      },
      "outputs": [
        {
          "data": {
            "text/html": [
              "<div>\n",
              "<style scoped>\n",
              "    .dataframe tbody tr th:only-of-type {\n",
              "        vertical-align: middle;\n",
              "    }\n",
              "\n",
              "    .dataframe tbody tr th {\n",
              "        vertical-align: top;\n",
              "    }\n",
              "\n",
              "    .dataframe thead th {\n",
              "        text-align: right;\n",
              "    }\n",
              "</style>\n",
              "<table border=\"1\" class=\"dataframe\">\n",
              "  <thead>\n",
              "    <tr style=\"text-align: right;\">\n",
              "      <th></th>\n",
              "      <th>ID</th>\n",
              "      <th>PriceBin</th>\n",
              "      <th>Date</th>\n",
              "      <th>Quantity</th>\n",
              "      <th>Review</th>\n",
              "    </tr>\n",
              "  </thead>\n",
              "  <tbody>\n",
              "    <tr>\n",
              "      <th>count</th>\n",
              "      <td>5</td>\n",
              "      <td>5</td>\n",
              "      <td>5</td>\n",
              "      <td>4.000000</td>\n",
              "      <td>5.000000</td>\n",
              "    </tr>\n",
              "    <tr>\n",
              "      <th>unique</th>\n",
              "      <td>5</td>\n",
              "      <td>3</td>\n",
              "      <td>2</td>\n",
              "      <td>NaN</td>\n",
              "      <td>NaN</td>\n",
              "    </tr>\n",
              "    <tr>\n",
              "      <th>top</th>\n",
              "      <td>Cola</td>\n",
              "      <td>medium</td>\n",
              "      <td>06/07/2021</td>\n",
              "      <td>NaN</td>\n",
              "      <td>NaN</td>\n",
              "    </tr>\n",
              "    <tr>\n",
              "      <th>freq</th>\n",
              "      <td>1</td>\n",
              "      <td>2</td>\n",
              "      <td>3</td>\n",
              "      <td>NaN</td>\n",
              "      <td>NaN</td>\n",
              "    </tr>\n",
              "    <tr>\n",
              "      <th>mean</th>\n",
              "      <td>NaN</td>\n",
              "      <td>NaN</td>\n",
              "      <td>NaN</td>\n",
              "      <td>40.000000</td>\n",
              "      <td>3.000000</td>\n",
              "    </tr>\n",
              "    <tr>\n",
              "      <th>std</th>\n",
              "      <td>NaN</td>\n",
              "      <td>NaN</td>\n",
              "      <td>NaN</td>\n",
              "      <td>40.620192</td>\n",
              "      <td>1.581139</td>\n",
              "    </tr>\n",
              "    <tr>\n",
              "      <th>min</th>\n",
              "      <td>NaN</td>\n",
              "      <td>NaN</td>\n",
              "      <td>NaN</td>\n",
              "      <td>10.000000</td>\n",
              "      <td>1.000000</td>\n",
              "    </tr>\n",
              "    <tr>\n",
              "      <th>25%</th>\n",
              "      <td>NaN</td>\n",
              "      <td>NaN</td>\n",
              "      <td>NaN</td>\n",
              "      <td>21.250000</td>\n",
              "      <td>2.000000</td>\n",
              "    </tr>\n",
              "    <tr>\n",
              "      <th>50%</th>\n",
              "      <td>NaN</td>\n",
              "      <td>NaN</td>\n",
              "      <td>NaN</td>\n",
              "      <td>25.000000</td>\n",
              "      <td>3.000000</td>\n",
              "    </tr>\n",
              "    <tr>\n",
              "      <th>75%</th>\n",
              "      <td>NaN</td>\n",
              "      <td>NaN</td>\n",
              "      <td>NaN</td>\n",
              "      <td>43.750000</td>\n",
              "      <td>4.000000</td>\n",
              "    </tr>\n",
              "    <tr>\n",
              "      <th>max</th>\n",
              "      <td>NaN</td>\n",
              "      <td>NaN</td>\n",
              "      <td>NaN</td>\n",
              "      <td>100.000000</td>\n",
              "      <td>5.000000</td>\n",
              "    </tr>\n",
              "  </tbody>\n",
              "</table>\n",
              "</div>"
            ],
            "text/plain": [
              "          ID PriceBin        Date    Quantity    Review\n",
              "count      5        5           5    4.000000  5.000000\n",
              "unique     5        3           2         NaN       NaN\n",
              "top     Cola   medium  06/07/2021         NaN       NaN\n",
              "freq       1        2           3         NaN       NaN\n",
              "mean     NaN      NaN         NaN   40.000000  3.000000\n",
              "std      NaN      NaN         NaN   40.620192  1.581139\n",
              "min      NaN      NaN         NaN   10.000000  1.000000\n",
              "25%      NaN      NaN         NaN   21.250000  2.000000\n",
              "50%      NaN      NaN         NaN   25.000000  3.000000\n",
              "75%      NaN      NaN         NaN   43.750000  4.000000\n",
              "max      NaN      NaN         NaN  100.000000  5.000000"
            ]
          },
          "execution_count": 15,
          "metadata": {},
          "output_type": "execute_result"
        }
      ],
      "source": [
        "# To get some statistics (e.g., count, mean, std, min, etc.)\n",
        "df.describe(include='all')"
      ]
    },
    {
      "cell_type": "markdown",
      "id": "bf3736bc",
      "metadata": {
        "id": "bf3736bc"
      },
      "source": [
        "# Plotting the data distribution: histogram (numeric)"
      ]
    },
    {
      "cell_type": "code",
      "execution_count": null,
      "id": "411d3ecf",
      "metadata": {
        "execution": {
          "iopub.execute_input": "2024-10-08T14:38:12.615270Z",
          "iopub.status.busy": "2024-10-08T14:38:12.615270Z",
          "iopub.status.idle": "2024-10-08T14:38:12.821514Z",
          "shell.execute_reply": "2024-10-08T14:38:12.821514Z"
        },
        "id": "411d3ecf",
        "outputId": "1ce87709-1578-4411-dfe4-91e15b97ed5f"
      },
      "outputs": [
        {
          "data": {
            "image/png": "[encoded data removed]",
            "text/plain": [
              "<Figure size 800x400 with 2 Axes>"
            ]
          },
          "metadata": {},
          "output_type": "display_data"
        }
      ],
      "source": [
        "df.hist(figsize=(8, 4), bins=10, color='skyblue', grid=False)\n",
        "plt.tight_layout()"
      ]
    },
    {
      "cell_type": "markdown",
      "id": "9120d27b",
      "metadata": {
        "id": "9120d27b"
      },
      "source": [
        "# Plotting the data distribution: boxplots (numeric)"
      ]
    },
    {
      "cell_type": "code",
      "execution_count": null,
      "id": "a3cfe38f",
      "metadata": {
        "execution": {
          "iopub.execute_input": "2024-10-08T14:38:12.823519Z",
          "iopub.status.busy": "2024-10-08T14:38:12.823519Z",
          "iopub.status.idle": "2024-10-08T14:38:12.908265Z",
          "shell.execute_reply": "2024-10-08T14:38:12.908265Z"
        },
        "id": "a3cfe38f",
        "outputId": "5e2b4f6d-4edf-4354-9da0-4a88eecc47a9"
      },
      "outputs": [
        {
          "data": {
            "image/png": "[encoded data removed]",
            "text/plain": [
              "<Figure size 800x400 with 1 Axes>"
            ]
          },
          "metadata": {},
          "output_type": "display_data"
        }
      ],
      "source": [
        "plt.figure(figsize=(8, 4))\n",
        "# Select only numeric columns\n",
        "numeric_cols = df.select_dtypes(include=['int64', 'float64'])\n",
        "numeric_cols.boxplot()\n",
        "# Add a title and axis labels\n",
        "plt.title('Boxplot of Numeric Columns')\n",
        "plt.ylabel('Values')\n",
        "plt.tight_layout()"
      ]
    },
    {
      "cell_type": "markdown",
      "id": "e7616c6d",
      "metadata": {
        "id": "e7616c6d"
      },
      "source": [
        "# Plotting the data distribution: histogram (categorical)"
      ]
    },
    {
      "cell_type": "code",
      "execution_count": null,
      "id": "0f8ddde6",
      "metadata": {
        "execution": {
          "iopub.execute_input": "2024-10-08T14:38:12.910278Z",
          "iopub.status.busy": "2024-10-08T14:38:12.910278Z",
          "iopub.status.idle": "2024-10-08T14:38:13.149818Z",
          "shell.execute_reply": "2024-10-08T14:38:13.149818Z"
        },
        "id": "0f8ddde6",
        "outputId": "d180a877-eca5-4ad7-ffb3-966831212196"
      },
      "outputs": [
        {
          "data": {
            "image/png": "[encoded data removed]",
            "text/plain": [
              "<Figure size 800x400 with 3 Axes>"
            ]
          },
          "metadata": {},
          "output_type": "display_data"
        }
      ],
      "source": [
        "# Select only the categorical columns (non-numeric)\n",
        "categorical_cols = df.select_dtypes(include=['object'])\n",
        "# Plot the distribution of each categorical column\n",
        "fig, axes = plt.subplots(nrows=1, ncols=len(categorical_cols.columns), figsize=(8, 4))\n",
        "# In case there is only one categorical column, we make sure axes is treated as an array\n",
        "if len(categorical_cols.columns) == 1: axes = [axes]\n",
        "# Loop over each categorical column and plot a bar plot\n",
        "for i, col in enumerate(categorical_cols.columns):\n",
        "    categorical_cols[col].value_counts().plot(kind='bar', ax=axes[i], color='skyblue')\n",
        "    axes[i].set_title(f'{col} Distribution')\n",
        "    axes[i].set_xlabel(col)\n",
        "    axes[i].set_ylabel('Count')\n",
        "# Show the plots\n",
        "plt.tight_layout()"
      ]
    },
    {
      "cell_type": "markdown",
      "id": "c0d44359",
      "metadata": {
        "id": "c0d44359"
      },
      "source": [
        "# Exercises\n",
        "\n",
        "These exercises will help you get familiar with basic Pandas operations and cover tasks you'll need when working with data.\n",
        "\n",
        "When in troubles, check the documentation at [http://pandas.pydata.org/pandas-docs/stable/reference/api/pandas.DataFrame.html](http://pandas.pydata.org/pandas-docs/stable/reference/api/pandas.DataFrame.html)\n",
        "\n",
        "1. Create a DataFrame with columns `Name`, `Age`, and `City` and data `[[\"Alice\", 20, \"New York\"], [\"Bob\", 21, \"Los Angeles\"], [\"Charlie\", 19, \"New York\"]]`. Hint: Use `pd.DataFrame()`, see the [documentation](http://pandas.pydata.org/pandas-docs/stable/reference/api/pandas.DataFrame.html).\n",
        "2. Select and print the column `Name`. Hint: Use `df['column_name']`.\n",
        "3. Filter the DataFrame to show rows where `Age` is greater/equal than 20.\n",
        "4. Add a new column `Year` fill it 2024 - the `Age` of every person. Hint: Use `df['new_column'] = values`.\n",
        "5. Group the DataFrame by `City` and calculate the average `Age` for each city. Hint: Use `df.groupby()`, see the [documentation](http://pandas.pydata.org/pandas-docs/stable/reference/api/pandas.DataFrame.groupby.html).\n",
        "6. Sort the DataFrame by Age in descending order. Hint: Use `df.sort_values()`, see the [documentation](http://pandas.pydata.org/pandas-docs/stable/reference/api/pandas.DataFrame.sort_values.html)\n",
        "7. Export the final DataFrame to a CSV file. Hint: Use `df.to_csv()`, see the [documentation](http://pandas.pydata.org/pandas-docs/stable/reference/api/pandas.DataFrame.to_csv.html)."
      ]
    },
    {
      "cell_type": "code",
      "execution_count": null,
      "id": "1e4187e7",
      "metadata": {
        "execution": {
          "iopub.execute_input": "2024-10-08T14:38:13.151816Z",
          "iopub.status.busy": "2024-10-08T14:38:13.150815Z",
          "iopub.status.idle": "2024-10-08T14:38:13.153537Z",
          "shell.execute_reply": "2024-10-08T14:38:13.153537Z"
        },
        "id": "1e4187e7"
      },
      "outputs": [],
      "source": [
        "# write your code here"
      ]
    }
  ],
  "metadata": {
    "celltoolbar": "Slideshow",
    "colab": {
      "provenance": []
    },
    "kernelspec": {
      "display_name": "Python 3 (ipykernel)",
      "language": "python",
      "name": "python3"
    },
    "language_info": {
      "codemirror_mode": {
        "name": "ipython",
        "version": 3
      },
      "file_extension": ".py",
      "mimetype": "text/x-python",
      "name": "python",
      "nbconvert_exporter": "python",
      "pygments_lexer": "ipython3",
      "version": "3.12.6"
    }
  },
  "nbformat": 4,
  "nbformat_minor": 5
}